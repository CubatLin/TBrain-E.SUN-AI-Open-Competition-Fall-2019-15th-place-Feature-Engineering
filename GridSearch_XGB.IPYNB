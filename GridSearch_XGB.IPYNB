{
 "cells": [
  {
   "cell_type": "code",
   "execution_count": 67,
   "metadata": {},
   "outputs": [],
   "source": [
    "import pandas as pd\n",
    "import numpy as np\n",
    "import xgboost as xgb\n",
    "from xgboost.sklearn import XGBClassifier\n",
    "from sklearn.model_selection import GridSearchCV\n",
    "from sklearn.model_selection import cross_validate   \n",
    "from sklearn.model_selection import train_test_split\n",
    "from sklearn.metrics import roc_auc_score"
   ]
  },
  {
   "cell_type": "code",
   "execution_count": 68,
   "metadata": {},
   "outputs": [],
   "source": [
    "train_data = pd.read_csv('C:\\\\Users\\\\w9012219\\\\Desktop\\\\Python\\\\0909 Esun\\\\total_set_1022.csv')\n",
    "train_data=train_data[train_data['if_train']==1]"
   ]
  },
  {
   "cell_type": "markdown",
   "metadata": {},
   "source": [
    "# Feature selection"
   ]
  },
  {
   "cell_type": "code",
   "execution_count": 69,
   "metadata": {},
   "outputs": [
    {
     "name": "stdout",
     "output_type": "stream",
     "text": [
      "['acqic', 'conam', 'contp', 'csmcu', 'etymd', 'hcefg', 'scity', 'stocn', 'iterm', 'loctm', 'mcc', 'mchno', 'stscd', 'time_interval', 'if_mor', 'conam_log', 'mchno1', 'mchno2', 'mchno3', 'mcc1', 'mcc2', 'mcc3', 'scity1', 'scity2', 'scity3', 'acqic1', 'acqic2', 'acqic3', 'if_mor1', 'if_mor2', 'if_mor3', 'conam1', 'conam2', 'conam3', 'conam_log1', 'conam_log2', 'conam_log3', 'weekday', 'time_weight']\n"
     ]
    }
   ],
   "source": [
    "#---feature columns----#\n",
    "#(['acqic', 'bacno', 'cano', 'conam', 'contp', 'csmcu', 'ecfg', 'etymd',\n",
    "#       'flbmk', 'flg_3dsmk', 'fraud_ind', 'hcefg', 'if_train', 'insfg',\n",
    "#       'iterm', 'locdt', 'loctm', 'mcc', 'mchno', 'ovrlt', 'scity', 'stocn',\n",
    "#       'stscd', 'txkey', 'time_interval', 'if_mor', 'conam_log', 'conam_3rt',\n",
    "#       \n",
    "#       'mchno1', 'mchno2', 'mchno3', 'conam1', 'conam2', 'conam3', 'mcc1',\n",
    "#       'mcc2', 'mcc3','scity1', 'scity2', 'scity3', 'acqic1', 'acqic2',\n",
    "#       'acqic3', 'contp1', 'contp2', 'contp3', 'ovrlt1', 'ovrlt2', 'ovrlt3',\n",
    "#       'hcefg1', 'hcefg2', 'hcefg3', 'csmcu1', 'csmcu2', 'csmcu3', 'if_mor1',\n",
    "#       'if_mor2', 'if_mor3', 'conam_log1', 'conam_log2', 'conam_log3',\n",
    "#       'conam_3rt1', 'conam_3rt2', 'conam_3rt3', \n",
    "#      \n",
    "#       'weekday', 'time_weight',\n",
    "#       'sum_lag0', 'sum_lag1', 'sum_lag2', 'diff_log10', 'mcc_mode'])\n",
    "\n",
    "feat_col = ['acqic','conam','contp','csmcu', 'etymd',\n",
    "            'hcefg', 'scity','stocn',\n",
    "            'iterm','loctm','mcc','mchno', \n",
    "            'stscd','time_interval','if_mor','conam_log']\n",
    "\n",
    "feat_col.extend(lagged_cate)\n",
    "feat_col.extend(lagged_num)\n",
    "feat_col.extend(['weekday','time_weight'])\n",
    "\n",
    "print(feat_col)"
   ]
  },
  {
   "cell_type": "code",
   "execution_count": 70,
   "metadata": {
    "scrolled": true
   },
   "outputs": [
    {
     "data": {
      "text/plain": [
       "Index(['acqic', 'acqic1', 'acqic2', 'acqic3', 'bacno', 'cano', 'conam',\n",
       "       'conam1', 'conam2', 'conam3', 'conam_3rt', 'conam_3rt1', 'conam_3rt2',\n",
       "       'conam_3rt3', 'conam_log', 'conam_log1', 'conam_log2', 'conam_log3',\n",
       "       'contp', 'contp1', 'contp2', 'contp3', 'csmcu', 'csmcu1', 'csmcu2',\n",
       "       'csmcu3', 'diff_log10', 'ecfg', 'etymd', 'flbmk', 'flg_3dsmk',\n",
       "       'fraud_ind', 'hcefg', 'hcefg1', 'hcefg2', 'hcefg3', 'if_mor', 'if_mor1',\n",
       "       'if_mor2', 'if_mor3', 'if_train', 'insfg', 'iterm', 'locdt', 'loctm',\n",
       "       'mcc', 'mcc1', 'mcc2', 'mcc3', 'mcc_mode', 'mchno', 'mchno1', 'mchno2',\n",
       "       'mchno3', 'ovrlt', 'ovrlt1', 'ovrlt2', 'ovrlt3', 'scity', 'scity1',\n",
       "       'scity2', 'scity3', 'stocn', 'stscd', 'sum_lag0', 'sum_lag1',\n",
       "       'sum_lag2', 'time_interval', 'time_weight', 'txkey', 'weekday'],\n",
       "      dtype='object')"
      ]
     },
     "execution_count": 70,
     "metadata": {},
     "output_type": "execute_result"
    }
   ],
   "source": [
    "train_data.columns"
   ]
  },
  {
   "cell_type": "code",
   "execution_count": 71,
   "metadata": {},
   "outputs": [],
   "source": [
    "train_data_y = train_data['fraud_ind']"
   ]
  },
  {
   "cell_type": "code",
   "execution_count": 72,
   "metadata": {},
   "outputs": [],
   "source": [
    "train_data = train_data[feat_col]\n",
    "\n",
    "## lag數值特徵na補0\n",
    "train_data[feat_col] = train_data[feat_col].fillna(0)\n"
   ]
  },
  {
   "cell_type": "code",
   "execution_count": 73,
   "metadata": {},
   "outputs": [],
   "source": [
    "train_data['fraud_ind']=train_data_y.astype(int).astype(str)"
   ]
  },
  {
   "cell_type": "code",
   "execution_count": 74,
   "metadata": {},
   "outputs": [
    {
     "data": {
      "text/html": [
       "<div>\n",
       "<style scoped>\n",
       "    .dataframe tbody tr th:only-of-type {\n",
       "        vertical-align: middle;\n",
       "    }\n",
       "\n",
       "    .dataframe tbody tr th {\n",
       "        vertical-align: top;\n",
       "    }\n",
       "\n",
       "    .dataframe thead th {\n",
       "        text-align: right;\n",
       "    }\n",
       "</style>\n",
       "<table border=\"1\" class=\"dataframe\">\n",
       "  <thead>\n",
       "    <tr style=\"text-align: right;\">\n",
       "      <th></th>\n",
       "      <th>acqic</th>\n",
       "      <th>conam</th>\n",
       "      <th>contp</th>\n",
       "      <th>csmcu</th>\n",
       "      <th>etymd</th>\n",
       "      <th>hcefg</th>\n",
       "      <th>scity</th>\n",
       "      <th>stocn</th>\n",
       "      <th>iterm</th>\n",
       "      <th>loctm</th>\n",
       "      <th>...</th>\n",
       "      <th>if_mor3</th>\n",
       "      <th>conam1</th>\n",
       "      <th>conam2</th>\n",
       "      <th>conam3</th>\n",
       "      <th>conam_log1</th>\n",
       "      <th>conam_log2</th>\n",
       "      <th>conam_log3</th>\n",
       "      <th>weekday</th>\n",
       "      <th>time_weight</th>\n",
       "      <th>fraud_ind</th>\n",
       "    </tr>\n",
       "  </thead>\n",
       "  <tbody>\n",
       "    <tr>\n",
       "      <td>0</td>\n",
       "      <td>6032</td>\n",
       "      <td>236.43</td>\n",
       "      <td>5</td>\n",
       "      <td>62</td>\n",
       "      <td>4</td>\n",
       "      <td>5</td>\n",
       "      <td>5817</td>\n",
       "      <td>102</td>\n",
       "      <td>0</td>\n",
       "      <td>151948.0</td>\n",
       "      <td>...</td>\n",
       "      <td>0.0</td>\n",
       "      <td>0.00</td>\n",
       "      <td>0.00</td>\n",
       "      <td>0.0</td>\n",
       "      <td>0.000000</td>\n",
       "      <td>0.000000</td>\n",
       "      <td>0.0</td>\n",
       "      <td>1</td>\n",
       "      <td>0.03125</td>\n",
       "      <td>0</td>\n",
       "    </tr>\n",
       "    <tr>\n",
       "      <td>1</td>\n",
       "      <td>6032</td>\n",
       "      <td>319.72</td>\n",
       "      <td>5</td>\n",
       "      <td>62</td>\n",
       "      <td>4</td>\n",
       "      <td>5</td>\n",
       "      <td>5817</td>\n",
       "      <td>102</td>\n",
       "      <td>0</td>\n",
       "      <td>154407.0</td>\n",
       "      <td>...</td>\n",
       "      <td>0.0</td>\n",
       "      <td>236.43</td>\n",
       "      <td>0.00</td>\n",
       "      <td>0.0</td>\n",
       "      <td>5.469873</td>\n",
       "      <td>0.000000</td>\n",
       "      <td>0.0</td>\n",
       "      <td>4</td>\n",
       "      <td>0.03125</td>\n",
       "      <td>0</td>\n",
       "    </tr>\n",
       "    <tr>\n",
       "      <td>2</td>\n",
       "      <td>6716</td>\n",
       "      <td>1016.34</td>\n",
       "      <td>5</td>\n",
       "      <td>62</td>\n",
       "      <td>4</td>\n",
       "      <td>5</td>\n",
       "      <td>5820</td>\n",
       "      <td>102</td>\n",
       "      <td>0</td>\n",
       "      <td>145342.0</td>\n",
       "      <td>...</td>\n",
       "      <td>0.0</td>\n",
       "      <td>319.72</td>\n",
       "      <td>236.43</td>\n",
       "      <td>0.0</td>\n",
       "      <td>5.770568</td>\n",
       "      <td>5.469873</td>\n",
       "      <td>0.0</td>\n",
       "      <td>6</td>\n",
       "      <td>0.03125</td>\n",
       "      <td>0</td>\n",
       "    </tr>\n",
       "  </tbody>\n",
       "</table>\n",
       "<p>3 rows × 40 columns</p>\n",
       "</div>"
      ],
      "text/plain": [
       "   acqic    conam  contp  csmcu  etymd  hcefg  scity  stocn  iterm     loctm  \\\n",
       "0   6032   236.43      5     62      4      5   5817    102      0  151948.0   \n",
       "1   6032   319.72      5     62      4      5   5817    102      0  154407.0   \n",
       "2   6716  1016.34      5     62      4      5   5820    102      0  145342.0   \n",
       "\n",
       "   ...  if_mor3  conam1  conam2  conam3  conam_log1  conam_log2  conam_log3  \\\n",
       "0  ...      0.0    0.00    0.00     0.0    0.000000    0.000000         0.0   \n",
       "1  ...      0.0  236.43    0.00     0.0    5.469873    0.000000         0.0   \n",
       "2  ...      0.0  319.72  236.43     0.0    5.770568    5.469873         0.0   \n",
       "\n",
       "   weekday  time_weight  fraud_ind  \n",
       "0        1      0.03125          0  \n",
       "1        4      0.03125          0  \n",
       "2        6      0.03125          0  \n",
       "\n",
       "[3 rows x 40 columns]"
      ]
     },
     "execution_count": 74,
     "metadata": {},
     "output_type": "execute_result"
    }
   ],
   "source": [
    "train_data.head(3)"
   ]
  },
  {
   "cell_type": "markdown",
   "metadata": {},
   "source": [
    "# Split train/validation set"
   ]
  },
  {
   "cell_type": "code",
   "execution_count": 75,
   "metadata": {},
   "outputs": [],
   "source": [
    "from sklearn.model_selection import train_test_split\n",
    "\n",
    "x_train,x_val,y_train,y_val = train_test_split(train_data[feat_col] ,\n",
    "                                               train_data['fraud_ind'],\n",
    "                                              stratify = train_data['fraud_ind'],\n",
    "                                              test_size = 0.2)"
   ]
  },
  {
   "cell_type": "markdown",
   "metadata": {},
   "source": [
    "# GridSearch for XGBoost "
   ]
  },
  {
   "cell_type": "code",
   "execution_count": 76,
   "metadata": {},
   "outputs": [],
   "source": [
    "from xgboost.sklearn import XGBClassifier\n",
    "from sklearn.model_selection import GridSearchCV\n",
    "from sklearn.model_selection import cross_validate   \n",
    "from sklearn.metrics import roc_auc_score"
   ]
  },
  {
   "cell_type": "code",
   "execution_count": 77,
   "metadata": {},
   "outputs": [],
   "source": [
    "parameters = {'max_depth':[3,5,7,8],\n",
    "              #'max_delta_step': [0, 0.6, 1, 2],\n",
    "              #'colsample_bytree': [ 0.8, 0.9],\n",
    "              #'reg_alpha': [0,  0.5,  1],\n",
    "              #'reg_lambda': [0.2,  0.6,  1],\n",
    "              #'scale_pos_weight': [0.2, 0.6, 1]\n",
    "\n",
    "}"
   ]
  },
  {
   "cell_type": "code",
   "execution_count": 78,
   "metadata": {},
   "outputs": [],
   "source": [
    "xlf = xgb.XGBClassifier(\n",
    "\t\t\tlearning_rate=0.03,\n",
    "\t\t\tn_estimators=500, \n",
    "\t\t\tsilent=True,\n",
    "\t\t\tobjective='binary:logistic',\n",
    "\t\t\tnthread=-1,\n",
    "\t\t\tgamma=0,\n",
    "\t\t\tmin_child_weight=0,\n",
    "\t\t\tsubsample=0.85,\n",
    "\t\t\tcolsample_bytree=0.7,\n",
    "\t\t\tcolsample_bylevel=1,\n",
    "\t\t\tscoring='roc_auc',                  \n",
    "\t\t\tseed=1440,\n",
    "\t\t\tmissing=None)"
   ]
  },
  {
   "cell_type": "code",
   "execution_count": 79,
   "metadata": {},
   "outputs": [
    {
     "name": "stdout",
     "output_type": "stream",
     "text": [
      "Best score: 0.979\n",
      "Best parameters set:\n",
      "\tmax_depth: 8\n"
     ]
    }
   ],
   "source": [
    "# 有了gridsearch我们便不需要fit函数\n",
    "gsearch = GridSearchCV(xlf, param_grid=parameters, scoring='roc_auc', cv=3)\n",
    "gsearch.fit(x_val, y_val)\n",
    "\n",
    "print(\"Best score: %0.3f\" % gsearch.best_score_)\n",
    "print(\"Best parameters set:\")\n",
    "best_parameters = gsearch.best_estimator_.get_params()\n",
    "for param_name in sorted(parameters.keys()):\n",
    "    print(\"\\t%s: %r\" % (param_name, best_parameters[param_name]))"
   ]
  }
 ],
 "metadata": {
  "kernelspec": {
   "display_name": "Python 3",
   "language": "python",
   "name": "python3"
  },
  "language_info": {
   "codemirror_mode": {
    "name": "ipython",
    "version": 3
   },
   "file_extension": ".py",
   "mimetype": "text/x-python",
   "name": "python",
   "nbconvert_exporter": "python",
   "pygments_lexer": "ipython3",
   "version": "3.7.4"
  }
 },
 "nbformat": 4,
 "nbformat_minor": 2
}
